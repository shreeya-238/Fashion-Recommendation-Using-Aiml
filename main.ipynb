{
 "cells": [
  {
   "cell_type": "code",
   "execution_count": 6,
   "id": "00065bdb-3520-4326-82ef-36d3191a143a",
   "metadata": {},
   "outputs": [
    {
     "name": "stdout",
     "output_type": "stream",
     "text": [
      " * Serving Flask app '__main__'\n",
      " * Debug mode: on\n"
     ]
    },
    {
     "name": "stderr",
     "output_type": "stream",
     "text": [
      "WARNING: This is a development server. Do not use it in a production deployment. Use a production WSGI server instead.\n",
      " * Running on http://127.0.0.1:5000\n",
      "Press CTRL+C to quit\n",
      " * Restarting with watchdog (windowsapi)\n"
     ]
    },
    {
     "ename": "SystemExit",
     "evalue": "1",
     "output_type": "error",
     "traceback": [
      "An exception has occurred, use %tb to see the full traceback.\n",
      "\u001b[1;31mSystemExit\u001b[0m\u001b[1;31m:\u001b[0m 1\n"
     ]
    },
    {
     "name": "stderr",
     "output_type": "stream",
     "text": [
      "C:\\Users\\pcsat\\anaconda3\\anaconda\\envs\\tf_env\\lib\\site-packages\\IPython\\core\\interactiveshell.py:3587: UserWarning: To exit: use 'exit', 'quit', or Ctrl-D.\n",
      "  warn(\"To exit: use 'exit', 'quit', or Ctrl-D.\", stacklevel=1)\n"
     ]
    }
   ],
   "source": [
    "from flask import Flask, request, jsonify\n",
    "import pickle\n",
    "import numpy as np\n",
    "import tensorflow\n",
    "from tensorflow.keras.preprocessing import image\n",
    "from tensorflow.keras.applications.resnet50 import ResNet50, preprocess_input\n",
    "from tensorflow.keras.layers import GlobalMaxPooling2D\n",
    "from sklearn.neighbors import NearestNeighbors\n",
    "from numpy.linalg import norm\n",
    "\n",
    "app = Flask(__name__)\n",
    "\n",
    "# Load pre-saved model and feature list\n",
    "feature_list = np.array(pickle.load(open('embeddings.pkl', 'rb')))\n",
    "filenames = pickle.load(open('filenames.pkl', 'rb'))\n",
    "\n",
    "# Recreate the model\n",
    "model = ResNet50(weights='imagenet', include_top=False, input_shape=(224, 224, 3))\n",
    "model.trainable = False\n",
    "model = tensorflow.keras.Sequential([model, GlobalMaxPooling2D()])\n",
    "\n",
    "# Set up KNN\n",
    "neighbors = NearestNeighbors(n_neighbors=4, algorithm='brute', metric='euclidean')\n",
    "neighbors.fit(feature_list)\n",
    "\n",
    "# API route to get recommendations\n",
    "@app.route('/recommend', methods=['POST'])\n",
    "def recommend():\n",
    "    # Get the image file from the request\n",
    "    img_file = request.files['image']\n",
    "    \n",
    "    # Process the image\n",
    "    img = image.load_img(img_file, target_size=(224, 224))\n",
    "    img_array = image.img_to_array(img)\n",
    "    expanded_img_array = np.expand_dims(img_array, axis=0)\n",
    "    preprocessed_img = preprocess_input(expanded_img_array)\n",
    "    \n",
    "    # Extract features\n",
    "    result = model.predict(preprocessed_img).flatten()\n",
    "    normalized_result = result / norm(result)\n",
    "    \n",
    "    # Get recommendations\n",
    "    distances, indices = neighbors.kneighbors([normalized_result])\n",
    "    \n",
    "    # Get filenames of recommended items\n",
    "    recommended_files = [filenames[file] for file in indices[0]]\n",
    "    \n",
    "    return jsonify({\"recommended_files\": recommended_files})\n",
    "\n",
    "if __name__ == '__main__':\n",
    "    app.run(debug=True)\n"
   ]
  },
  {
   "cell_type": "code",
   "execution_count": null,
   "id": "831179a4-943e-4a30-b82d-53d93894037c",
   "metadata": {},
   "outputs": [],
   "source": []
  },
  {
   "cell_type": "code",
   "execution_count": null,
   "id": "3fa995a9-e055-4ffb-955b-e4eb584d0849",
   "metadata": {},
   "outputs": [],
   "source": []
  }
 ],
 "metadata": {
  "kernelspec": {
   "display_name": "Python (tf_env)",
   "language": "python",
   "name": "tf_env"
  },
  "language_info": {
   "codemirror_mode": {
    "name": "ipython",
    "version": 3
   },
   "file_extension": ".py",
   "mimetype": "text/x-python",
   "name": "python",
   "nbconvert_exporter": "python",
   "pygments_lexer": "ipython3",
   "version": "3.10.16"
  }
 },
 "nbformat": 4,
 "nbformat_minor": 5
}
